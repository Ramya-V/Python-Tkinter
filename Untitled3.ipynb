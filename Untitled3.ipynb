{
 "cells": [
  {
   "cell_type": "code",
   "execution_count": 4,
   "metadata": {},
   "outputs": [],
   "source": [
    "import tkinter\n",
    "win=tkinter.Tk()\n",
    "label=tkinter.Label(win,text=\"username\")\n",
    "label.pack()\n",
    "text=tkinter.Text(win,width=20,height=3)\n",
    "text.pack()\n",
    "label1=tkinter.Label(win,text=\"password\")\n",
    "label1.pack()\n",
    "text1=tkinter.Text(win,width=20,height=3)\n",
    "text1.pack()\n",
    "button1=tkinter.Button(win,text=\"cancel\")\n",
    "button1.pack()\n",
    "button=tkinter.Button(win,text=\"login\")\n",
    "button.pack()\n",
    "win.mainloop()\n"
   ]
  },
  {
   "cell_type": "code",
   "execution_count": null,
   "metadata": {},
   "outputs": [],
   "source": []
  }
 ],
 "metadata": {
  "kernelspec": {
   "display_name": "Python 3",
   "language": "python",
   "name": "python3"
  },
  "language_info": {
   "codemirror_mode": {
    "name": "ipython",
    "version": 3
   },
   "file_extension": ".py",
   "mimetype": "text/x-python",
   "name": "python",
   "nbconvert_exporter": "python",
   "pygments_lexer": "ipython3",
   "version": "3.6.5"
  }
 },
 "nbformat": 4,
 "nbformat_minor": 2
}
