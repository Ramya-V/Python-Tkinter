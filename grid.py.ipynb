{
 "cells": [
  {
   "cell_type": "code",
   "execution_count": null,
   "metadata": {},
   "outputs": [],
   "source": [
    "import tkinter\n",
    "win=tkinter.Tk()\n",
    "label=tkinter.Label(win,text=\"Name\")\n",
    "label1=tkinter.Label(win,text=\"Password\")\n",
    "entry=tkinter.Entry(win)\n",
    "entry1=tkinter.Entry(win)\n",
    "button=tkinter.Button(win,text=\"cancel\")\n",
    "button1=tkinter.Button(win,text=\"login\")\n",
    "label.grid(row=0,column=0)\n",
    "label1.grid(row=1,column=0)\n",
    "entry.grid(row=0,column=1)\n",
    "entry1.grid(row=1,column=1)\n",
    "button.grid(row=2,column=0)\n",
    "button1.grid(row=2,column=1)\n",
    "c=tkinter.Checkbutton(win, text=\"keep me logged in\")\n",
    "win.mainloop()"
   ]
  },
  {
   "cell_type": "code",
   "execution_count": null,
   "metadata": {},
   "outputs": [],
   "source": []
  }
 ],
 "metadata": {
  "kernelspec": {
   "display_name": "Python 3",
   "language": "python",
   "name": "python3"
  },
  "language_info": {
   "codemirror_mode": {
    "name": "ipython",
    "version": 3
   },
   "file_extension": ".py",
   "mimetype": "text/x-python",
   "name": "python",
   "nbconvert_exporter": "python",
   "pygments_lexer": "ipython3",
   "version": "3.6.5"
  }
 },
 "nbformat": 4,
 "nbformat_minor": 2
}
